{
 "cells": [
  {
   "cell_type": "code",
   "execution_count": null,
   "metadata": {},
   "outputs": [],
   "source": [
    "import torch\n",
    "import fastai\n",
    "import numpy as np\n",
    "import matplotlib.pyplot as plt\n",
    "from pathlib import Path\n",
    "from PIL import Image\n",
    "from tqdm import tqdm\n",
    "from fastai.vision.all import *\n",
    "from fastai.vision.augment import *"
   ]
  },
  {
   "cell_type": "code",
   "execution_count": null,
   "metadata": {},
   "outputs": [],
   "source": [
    "#created dataset in colab\n",
    "\n",
    "root_dir = \"/content/gdrive/My Drive/\"\n",
    "base_dir = root_dir + 'fastai-v3/data/MEMES/'\n",
    "from fastai.vision import *\n",
    "path = Path(base_dir)\n",
    "path.mkdir(parents=True, exist_ok=True)"
   ]
  },
  {
   "cell_type": "code",
   "execution_count": null,
   "metadata": {},
   "outputs": [],
   "source": [
    "#1000 memes\n",
    "\n",
    "folder = 'meme'\n",
    "jsonl_file_path = \"facebook-hateful-meme-dataset/data/train.jsonl\"\n",
    "path = Path(base_dir)\n",
    "destination_dir = path/folder\n",
    "\n",
    "image_count = 0\n",
    "\n",
    "with open(jsonl_file_path, 'r') as f:\n",
    "    for line in f:\n",
    "        entry = json.loads(line)\n",
    "\n",
    "        image_url = entry[\"img\"]\n",
    "        print(image_url)\n",
    "\n",
    "        source_file_path = Path(jsonl_file_path).parent / image_url\n",
    "        print(source_file_path)\n",
    "        filename = image_url.split(\"/\")[-1]\n",
    "        destination_file_path = destination_dir\n",
    "        print(destination_file_path)\n",
    "        shutil.copy(str(source_file_path), str(destination_file_path))\n",
    "\n",
    "        image_count += 1\n",
    "\n",
    "        if image_count == 1000:\n",
    "            break\n"
   ]
  },
  {
   "cell_type": "code",
   "execution_count": null,
   "metadata": {},
   "outputs": [],
   "source": [
    "import os\n",
    "import shutil\n",
    "\n",
    "#used a mini ImageNet dataset from Kaggle for not_memes\n",
    "\n",
    "source_dir = 'imagenetmini-1000/imagenet-mini/train/'\n",
    "\n",
    "destination_dir = 'gdrive/MyDrive/fastai-v3/data/MEMES/not_meme'\n",
    "\n",
    "stop = 0\n",
    "for folder_name in os.listdir(source_dir):\n",
    "    folder_path = os.path.join(source_dir, folder_name)\n",
    "\n",
    "    if os.path.isdir(folder_path):\n",
    "        images = [f for f in os.listdir(folder_path) if os.path.isfile(os.path.join(folder_path, f))]\n",
    "\n",
    "        if len(images) > 0:\n",
    "            selected_image = images[0]\n",
    "\n",
    "            source_file_path = os.path.join(folder_path, selected_image)\n",
    "            destination_file_path = os.path.join(destination_dir, selected_image)\n",
    "\n",
    "            shutil.copy(source_file_path, destination_file_path)\n",
    "\n",
    "            print(f\"Moved {selected_image} from {folder_name} to destination folder.\")\n",
    "\n",
    "    if stop == 1:\n",
    "      break\n"
   ]
  },
  {
   "cell_type": "code",
   "execution_count": null,
   "metadata": {},
   "outputs": [],
   "source": [
    "img_size = 460\n",
    "\n",
    "#augment the images for better training\n",
    "\n",
    "augmentations = [\n",
    "    Brightness(max_lighting=0.3, p=0.5),\n",
    "    Contrast(max_lighting=0.4, p=0.5),\n",
    "    RandomErasing(p=0.3, sl=0.0, sh=0.2, min_aspect=0.3, max_count=1)]\n",
    "    \n",
    "data = ImageDataLoaders.from_folder(path='gdrive/MyDrive/fastai-v3/data/MEMES',\n",
    "                               valid_pct = 0.2,\n",
    "                               num_workers=0,\n",
    "                               batch_tfms=augmentations,\n",
    "                               item_tfms=Resize(img_size))\n",
    "data.show_batch()"
   ]
  },
  {
   "cell_type": "code",
   "execution_count": null,
   "metadata": {},
   "outputs": [],
   "source": [
    "learn = vision_learner(data,\n",
    "                    resnet34,\n",
    "                    metrics=[accuracy,error_rate])\n",
    "\n",
    "learn.fit_one_cycle(4)"
   ]
  },
  {
   "cell_type": "code",
   "execution_count": null,
   "metadata": {},
   "outputs": [],
   "source": [
    "#find the optimal learning rate\n",
    "val = learn.lr_find()\n",
    "\n",
    "learn.unfreeze()"
   ]
  },
  {
   "cell_type": "code",
   "execution_count": null,
   "metadata": {},
   "outputs": [],
   "source": [
    "#lr_find() gives a plot, choose slice that has max loss slope\n",
    "\n",
    "learn.fit_one_cycle(2, slice(3e-4,3e-3))"
   ]
  }
 ],
 "metadata": {
  "language_info": {
   "name": "python"
  },
  "orig_nbformat": 4
 },
 "nbformat": 4,
 "nbformat_minor": 2
}
